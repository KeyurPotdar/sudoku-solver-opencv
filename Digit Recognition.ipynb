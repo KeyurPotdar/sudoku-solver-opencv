{
 "cells": [
  {
   "cell_type": "markdown",
   "metadata": {},
   "source": [
    "# Digit Recognition\n",
    "\n",
    "Sudoku dataset downloaded from https://github.com/wichtounet/sudoku_dataset"
   ]
  },
  {
   "cell_type": "code",
   "execution_count": 58,
   "metadata": {},
   "outputs": [],
   "source": [
    "import cv2\n",
    "import random\n",
    "import numpy as np\n",
    "import pandas as pd\n",
    "import matplotlib.pyplot as plt\n",
    "\n",
    "from tqdm import tqdm\n",
    "from keras.models import Sequential\n",
    "from keras.layers import Conv2D, MaxPool2D, Dropout, Flatten, Dense\n",
    "from keras.utils.np_utils import to_categorical\n",
    "from keras.optimizers import RMSprop, Adam\n",
    "from keras.preprocessing.image import ImageDataGenerator\n",
    "from keras.callbacks import ReduceLROnPlateau\n",
    "from sklearn.metrics import classification_report, confusion_matrix\n",
    "\n",
    "import image_processing_utils as ip_utils\n",
    "\n",
    "%matplotlib inline"
   ]
  },
  {
   "cell_type": "code",
   "execution_count": 2,
   "metadata": {},
   "outputs": [],
   "source": [
    "train_paths = []\n",
    "test_paths = []\n",
    "\n",
    "with open('data/train.desc') as f:\n",
    "    for img in f.readlines():\n",
    "        train_paths.append('data/train/' + img.strip()[7:-4])\n",
    "        \n",
    "with open('data/test.desc') as f:\n",
    "    for img in f.readlines():\n",
    "        test_paths.append('data/test/' + img.strip()[7:-4])"
   ]
  },
  {
   "cell_type": "markdown",
   "metadata": {},
   "source": [
    "## Convert train images to csv\n",
    "\n",
    "1. Read image and corresponding \".dat\" file containing target digits.\n",
    "2. Extract digits from the image using `image_to_grid.convert(img)`. Extracted digits are in the form of 28x28 image.\n",
    "3. If digit is present in cell (target non-zero), add digit and target to CSV. Each row in CSV will have 785 columns. First column is target digit and remaining 784 are flattened pixels of digit image.\n",
    "\n",
    "<center><h2>Original image</h2></center>\n",
    "\n",
    "![](images/sudoku1.jpeg)  <br><br>\n",
    "\n",
    "<center><h2>Extracted digits</h2></center>\n",
    "\n",
    "![](images/sudoku1_extracted_digits.jpeg)"
   ]
  },
  {
   "cell_type": "code",
   "execution_count": 3,
   "metadata": {},
   "outputs": [
    {
     "name": "stderr",
     "output_type": "stream",
     "text": [
      "100%|████████████████████████████████████████████████████████████████████████████████| 160/160 [00:29<00:00,  5.49it/s]\n"
     ]
    }
   ],
   "source": [
    "train_data = []\n",
    "for path in tqdm(train_paths):\n",
    "    img = cv2.imread(path + '.jpg', cv2.IMREAD_GRAYSCALE)\n",
    "    digits = ip_utils.convert(img)\n",
    "    target = []\n",
    "    with open(path + '.dat') as f:\n",
    "        for line in f.readlines()[2:]:\n",
    "            target.extend(map(int, line.strip().split()))\n",
    "    for digit, t in zip(digits, target):\n",
    "        if t != 0:\n",
    "            train_data.append(np.concatenate(([t], np.array(digit).flatten())))"
   ]
  },
  {
   "cell_type": "code",
   "execution_count": 4,
   "metadata": {},
   "outputs": [
    {
     "name": "stdout",
     "output_type": "stream",
     "text": [
      "(4656, 785)\n",
      "   0    1    2    3    4    5    6    7    8    9   ...   775  776  777  778  \\\n",
      "0    7    0    0    0    0    0    0    0    0    0 ...     0    0    0    0   \n",
      "1    8    0    0    0    0    0    0    0    0    0 ...     0    0    0    0   \n",
      "2    9    0    0    0    0    0    0    0    0    0 ...     0    0    0    0   \n",
      "3    3    0    0    0    0    0    0    0    0    0 ...     0    0    0    0   \n",
      "4    1    0    0    0    0    0    0    0    0    0 ...     0    0    0    0   \n",
      "\n",
      "   779  780  781  782  783  784  \n",
      "0    0    0    0    0    0    0  \n",
      "1    0    0    0    0    0    0  \n",
      "2    0    0    0    0    0    0  \n",
      "3    0    0    0    0    0    0  \n",
      "4    0    0    0    0    0    0  \n",
      "\n",
      "[5 rows x 785 columns]\n"
     ]
    }
   ],
   "source": [
    "train_df = pd.DataFrame(train_data)\n",
    "print(train_df.shape)\n",
    "print(train_df.head())\n",
    "train_df.to_csv('data/train.csv', index=False, header=False)"
   ]
  },
  {
   "cell_type": "markdown",
   "metadata": {},
   "source": [
    "Same for test data"
   ]
  },
  {
   "cell_type": "code",
   "execution_count": 6,
   "metadata": {},
   "outputs": [
    {
     "name": "stderr",
     "output_type": "stream",
     "text": [
      "100%|██████████████████████████████████████████████████████████████████████████████████| 40/40 [00:07<00:00,  5.30it/s]\n"
     ]
    },
    {
     "name": "stdout",
     "output_type": "stream",
     "text": [
      "(1156, 785)\n",
      "   0    1    2    3    4    5    6    7    8    9   ...   775  776  777  778  \\\n",
      "0    8    0    0    0    0    0    0    0    0    0 ...     0    0    0    0   \n",
      "1    7    0    0    0    0    0    0    0    0    0 ...     0    0    0    0   \n",
      "2    9    0    0    0    0    0    0    0    0    0 ...     0    0    0    0   \n",
      "3    1    0    0    0    0    0    0    0    0    0 ...     0    0    0    0   \n",
      "4    6    0    0    0    0    0    0    0    0    0 ...     0    0    0    0   \n",
      "\n",
      "   779  780  781  782  783  784  \n",
      "0    0    0    0    0    0    0  \n",
      "1    0    0    0    0    0    0  \n",
      "2    0    0    0    0    0    0  \n",
      "3    0    0    0    0    0    0  \n",
      "4    0    0    0    0    0    0  \n",
      "\n",
      "[5 rows x 785 columns]\n"
     ]
    }
   ],
   "source": [
    "test_data = []\n",
    "for path in tqdm(test_paths):\n",
    "    img = cv2.imread(path + '.jpg', cv2.IMREAD_GRAYSCALE)\n",
    "    digits = ip_utils.convert(img)\n",
    "    target = []\n",
    "    with open(path + '.dat') as f:\n",
    "        for line in f.readlines()[2:]:\n",
    "            target.extend(map(int, line.strip().split()))\n",
    "    for digit, t in zip(digits, target):\n",
    "        if t != 0:\n",
    "            test_data.append(np.concatenate(([t], np.array(digit).flatten())))\n",
    "\n",
    "test_df = pd.DataFrame(test_data)\n",
    "print(test_df.shape)\n",
    "print(test_df.head())\n",
    "test_df.to_csv('data/test.csv', index=False, header=False)"
   ]
  },
  {
   "cell_type": "code",
   "execution_count": 7,
   "metadata": {},
   "outputs": [],
   "source": [
    "x_train, y_train = train_df.iloc[:, 1:], train_df.iloc[:, 0]\n",
    "x_test, y_test = test_df.iloc[:, 1:], test_df.iloc[:, 0]"
   ]
  },
  {
   "cell_type": "markdown",
   "metadata": {},
   "source": [
    "### Normalize and reshape"
   ]
  },
  {
   "cell_type": "code",
   "execution_count": 8,
   "metadata": {},
   "outputs": [],
   "source": [
    "x_train = x_train / 255.\n",
    "x_test = x_test / 255.\n",
    "x_train = x_train.values.reshape(-1, 28, 28, 1)\n",
    "x_test = x_test.values.reshape(-1, 28, 28, 1)"
   ]
  },
  {
   "cell_type": "code",
   "execution_count": 11,
   "metadata": {},
   "outputs": [
    {
     "name": "stdout",
     "output_type": "stream",
     "text": [
      "Target: 3\n"
     ]
    },
    {
     "data": {
      "image/png": "[encoded data removed]",
      "text/plain": [
       "<Figure size 432x288 with 1 Axes>"
      ]
     },
     "metadata": {
      "needs_background": "light"
     },
     "output_type": "display_data"
    }
   ],
   "source": [
    "idx = random.randint(0, 4655)\n",
    "plt.imshow(x_train[idx].reshape(28, 28), cmap='gray')\n",
    "print('Target:', y_train.iloc[idx])"
   ]
  },
  {
   "cell_type": "code",
   "execution_count": 10,
   "metadata": {
    "scrolled": true
   },
   "outputs": [
    {
     "data": {
      "text/plain": [
       "8    567\n",
       "3    538\n",
       "7    535\n",
       "9    531\n",
       "4    515\n",
       "5    509\n",
       "1    506\n",
       "2    501\n",
       "6    454\n",
       "Name: 0, dtype: int64"
      ]
     },
     "execution_count": 10,
     "metadata": {},
     "output_type": "execute_result"
    }
   ],
   "source": [
    "y_train.value_counts()"
   ]
  },
  {
   "cell_type": "markdown",
   "metadata": {},
   "source": [
    "### Label encoding"
   ]
  },
  {
   "cell_type": "code",
   "execution_count": 12,
   "metadata": {},
   "outputs": [],
   "source": [
    "y_train = to_categorical(y_train)\n",
    "y_test = to_categorical(y_test)"
   ]
  },
  {
   "cell_type": "markdown",
   "metadata": {},
   "source": [
    "## Training"
   ]
  },
  {
   "cell_type": "code",
   "execution_count": 13,
   "metadata": {},
   "outputs": [],
   "source": [
    "model = Sequential()\n",
    "\n",
    "model.add(Conv2D(filters=32, kernel_size=(5, 5), padding='same', activation='relu', input_shape=(28, 28, 1)))\n",
    "model.add(Conv2D(filters=32, kernel_size=(5, 5), padding='same', activation='relu'))\n",
    "model.add(MaxPool2D(pool_size=(2, 2)))\n",
    "model.add(Dropout(0.25))\n",
    "\n",
    "model.add(Conv2D(filters=64, kernel_size=(3, 3), padding='same', activation='relu'))\n",
    "model.add(Conv2D(filters=64, kernel_size=(3, 3), padding='same', activation='relu'))\n",
    "model.add(MaxPool2D(pool_size=(2, 2), strides=(2, 2)))\n",
    "model.add(Dropout(0.25))\n",
    "\n",
    "model.add(Flatten())\n",
    "model.add(Dense(256, activation='relu'))\n",
    "model.add(Dropout(0.5))\n",
    "model.add(Dense(10, activation='softmax'))"
   ]
  },
  {
   "cell_type": "code",
   "execution_count": 14,
   "metadata": {},
   "outputs": [],
   "source": [
    "# optimizer = RMSprop(lr=0.001, rho=0.9, epsilon=1e-08, decay=0.0)\n",
    "optimizer = Adam(lr=0.001)\n",
    "model.compile(optimizer=optimizer, loss='categorical_crossentropy', metrics=['accuracy'])"
   ]
  },
  {
   "cell_type": "code",
   "execution_count": 15,
   "metadata": {},
   "outputs": [
    {
     "name": "stdout",
     "output_type": "stream",
     "text": [
      "_________________________________________________________________\n",
      "Layer (type)                 Output Shape              Param #   \n",
      "=================================================================\n",
      "conv2d_1 (Conv2D)            (None, 28, 28, 32)        832       \n",
      "_________________________________________________________________\n",
      "conv2d_2 (Conv2D)            (None, 28, 28, 32)        25632     \n",
      "_________________________________________________________________\n",
      "max_pooling2d_1 (MaxPooling2 (None, 14, 14, 32)        0         \n",
      "_________________________________________________________________\n",
      "dropout_1 (Dropout)          (None, 14, 14, 32)        0         \n",
      "_________________________________________________________________\n",
      "conv2d_3 (Conv2D)            (None, 14, 14, 64)        18496     \n",
      "_________________________________________________________________\n",
      "conv2d_4 (Conv2D)            (None, 14, 14, 64)        36928     \n",
      "_________________________________________________________________\n",
      "max_pooling2d_2 (MaxPooling2 (None, 7, 7, 64)          0         \n",
      "_________________________________________________________________\n",
      "dropout_2 (Dropout)          (None, 7, 7, 64)          0         \n",
      "_________________________________________________________________\n",
      "flatten_1 (Flatten)          (None, 3136)              0         \n",
      "_________________________________________________________________\n",
      "dense_1 (Dense)              (None, 256)               803072    \n",
      "_________________________________________________________________\n",
      "dropout_3 (Dropout)          (None, 256)               0         \n",
      "_________________________________________________________________\n",
      "dense_2 (Dense)              (None, 10)                2570      \n",
      "=================================================================\n",
      "Total params: 887,530\n",
      "Trainable params: 887,530\n",
      "Non-trainable params: 0\n",
      "_________________________________________________________________\n"
     ]
    }
   ],
   "source": [
    "model.summary()"
   ]
  },
  {
   "cell_type": "markdown",
   "metadata": {},
   "source": [
    "### Data Augmentation"
   ]
  },
  {
   "cell_type": "code",
   "execution_count": 16,
   "metadata": {},
   "outputs": [],
   "source": [
    "datagen = ImageDataGenerator(\n",
    "    rotation_range=10,\n",
    "    zoom_range=0.2,\n",
    "    shear_range=0.2,\n",
    "    width_shift_range=0.2,\n",
    "    height_shift_range=0.2\n",
    ")\n",
    "datagen.fit(x_train)"
   ]
  },
  {
   "cell_type": "code",
   "execution_count": 17,
   "metadata": {},
   "outputs": [
    {
     "name": "stdout",
     "output_type": "stream",
     "text": [
      "Epoch 1/30\n",
      " - 35s - loss: 1.3837 - acc: 0.5013 - val_loss: 0.2869 - val_acc: 0.9100\n",
      "Epoch 2/30\n",
      " - 33s - loss: 0.4556 - acc: 0.8616 - val_loss: 0.2272 - val_acc: 0.9394\n",
      "Epoch 3/30\n",
      " - 33s - loss: 0.2937 - acc: 0.9121 - val_loss: 0.2153 - val_acc: 0.9412\n",
      "Epoch 4/30\n",
      " - 37s - loss: 0.2192 - acc: 0.9371 - val_loss: 0.2219 - val_acc: 0.9472\n",
      "Epoch 5/30\n",
      " - 39s - loss: 0.1809 - acc: 0.9474 - val_loss: 0.2305 - val_acc: 0.9455\n",
      "Epoch 6/30\n",
      " - 39s - loss: 0.1761 - acc: 0.9476 - val_loss: 0.1791 - val_acc: 0.9464\n",
      "Epoch 7/30\n",
      " - 39s - loss: 0.1462 - acc: 0.9565 - val_loss: 0.1943 - val_acc: 0.9481\n",
      "Epoch 8/30\n",
      " - 34s - loss: 0.1530 - acc: 0.9545 - val_loss: 0.1943 - val_acc: 0.9455\n",
      "Epoch 9/30\n",
      " - 33s - loss: 0.1485 - acc: 0.9558 - val_loss: 0.1949 - val_acc: 0.9481\n",
      "Epoch 10/30\n",
      " - 33s - loss: 0.1347 - acc: 0.9595 - val_loss: 0.1962 - val_acc: 0.9472\n",
      "\n",
      "Epoch 00010: ReduceLROnPlateau reducing learning rate to 0.0005000000237487257.\n",
      "Epoch 11/30\n",
      " - 33s - loss: 0.1129 - acc: 0.9647 - val_loss: 0.1891 - val_acc: 0.9498\n",
      "Epoch 12/30\n",
      " - 33s - loss: 0.1036 - acc: 0.9672 - val_loss: 0.1898 - val_acc: 0.9507\n",
      "Epoch 13/30\n",
      " - 33s - loss: 0.1111 - acc: 0.9634 - val_loss: 0.1784 - val_acc: 0.9498\n",
      "Epoch 14/30\n",
      " - 34s - loss: 0.1092 - acc: 0.9664 - val_loss: 0.1768 - val_acc: 0.9498\n",
      "Epoch 15/30\n",
      " - 32s - loss: 0.0980 - acc: 0.9681 - val_loss: 0.1895 - val_acc: 0.9472\n",
      "\n",
      "Epoch 00015: ReduceLROnPlateau reducing learning rate to 0.0002500000118743628.\n",
      "Epoch 16/30\n",
      " - 32s - loss: 0.0977 - acc: 0.9696 - val_loss: 0.1848 - val_acc: 0.9507\n",
      "Epoch 17/30\n",
      " - 32s - loss: 0.0905 - acc: 0.9718 - val_loss: 0.1766 - val_acc: 0.9507\n",
      "Epoch 18/30\n",
      " - 32s - loss: 0.0949 - acc: 0.9685 - val_loss: 0.1759 - val_acc: 0.9516\n",
      "Epoch 19/30\n",
      " - 32s - loss: 0.0918 - acc: 0.9711 - val_loss: 0.1756 - val_acc: 0.9507\n",
      "Epoch 20/30\n",
      " - 33s - loss: 0.0842 - acc: 0.9709 - val_loss: 0.1855 - val_acc: 0.9498\n",
      "Epoch 21/30\n",
      " - 33s - loss: 0.0821 - acc: 0.9726 - val_loss: 0.1846 - val_acc: 0.9516\n",
      "\n",
      "Epoch 00021: ReduceLROnPlateau reducing learning rate to 0.0001250000059371814.\n",
      "Epoch 22/30\n",
      " - 32s - loss: 0.0804 - acc: 0.9750 - val_loss: 0.1772 - val_acc: 0.9516\n",
      "Epoch 23/30\n",
      " - 33s - loss: 0.0913 - acc: 0.9709 - val_loss: 0.1774 - val_acc: 0.9507\n",
      "Epoch 24/30\n",
      " - 32s - loss: 0.0762 - acc: 0.9763 - val_loss: 0.1832 - val_acc: 0.9507\n",
      "\n",
      "Epoch 00024: ReduceLROnPlateau reducing learning rate to 6.25000029685907e-05.\n",
      "Epoch 25/30\n",
      " - 32s - loss: 0.0792 - acc: 0.9741 - val_loss: 0.1799 - val_acc: 0.9524\n",
      "Epoch 26/30\n",
      " - 32s - loss: 0.0795 - acc: 0.9733 - val_loss: 0.1825 - val_acc: 0.9498\n",
      "Epoch 27/30\n",
      " - 32s - loss: 0.0842 - acc: 0.9741 - val_loss: 0.1770 - val_acc: 0.9516\n",
      "Epoch 28/30\n",
      " - 32s - loss: 0.0803 - acc: 0.9741 - val_loss: 0.1768 - val_acc: 0.9516\n",
      "\n",
      "Epoch 00028: ReduceLROnPlateau reducing learning rate to 3.125000148429535e-05.\n",
      "Epoch 29/30\n",
      " - 32s - loss: 0.0704 - acc: 0.9767 - val_loss: 0.1794 - val_acc: 0.9542\n",
      "Epoch 30/30\n",
      " - 32s - loss: 0.0689 - acc: 0.9774 - val_loss: 0.1793 - val_acc: 0.9516\n"
     ]
    }
   ],
   "source": [
    "epochs = 30\n",
    "batch_size = 32\n",
    "steps_per_epoch = x_train.shape[0] // batch_size\n",
    "lr_reduction = ReduceLROnPlateau(monitor='val_acc', \n",
    "                                 patience=3, \n",
    "                                 verbose=1, \n",
    "                                 factor=0.5, \n",
    "                                 min_lr=0.00001)\n",
    "\n",
    "history = model.fit_generator(datagen.flow(x_train, y_train, batch_size=batch_size), epochs=epochs, verbose=2,\n",
    "                              validation_data=(x_test, y_test), steps_per_epoch=steps_per_epoch, callbacks=[lr_reduction])"
   ]
  },
  {
   "cell_type": "code",
   "execution_count": 18,
   "metadata": {},
   "outputs": [
    {
     "data": {
      "text/plain": [
       "<matplotlib.legend.Legend at 0x13839f1fe48>"
      ]
     },
     "execution_count": 18,
     "metadata": {},
     "output_type": "execute_result"
    },
    {
     "data": {
      "image/png": "[encoded data removed]",
      "text/plain": [
       "<Figure size 432x288 with 1 Axes>"
      ]
     },
     "metadata": {
      "needs_background": "light"
     },
     "output_type": "display_data"
    }
   ],
   "source": [
    "plt.plot(history.history['acc'])\n",
    "plt.plot(history.history['val_acc'])\n",
    "plt.title('Accuracy')\n",
    "plt.xlabel('Epochs')\n",
    "plt.ylabel('Accuracy')\n",
    "plt.legend(['train', 'test'])"
   ]
  },
  {
   "cell_type": "code",
   "execution_count": 19,
   "metadata": {
    "scrolled": true
   },
   "outputs": [
    {
     "data": {
      "text/plain": [
       "<matplotlib.legend.Legend at 0x1383be4d128>"
      ]
     },
     "execution_count": 19,
     "metadata": {},
     "output_type": "execute_result"
    },
    {
     "data": {
      "image/png": "[encoded data removed]",
      "text/plain": [
       "<Figure size 432x288 with 1 Axes>"
      ]
     },
     "metadata": {
      "needs_background": "light"
     },
     "output_type": "display_data"
    }
   ],
   "source": [
    "plt.plot(history.history['loss'])\n",
    "plt.plot(history.history['val_loss'])\n",
    "plt.title('Loss')\n",
    "plt.xlabel('Epochs')\n",
    "plt.ylabel('Loss')\n",
    "plt.legend(['train', 'test'])"
   ]
  },
  {
   "cell_type": "code",
   "execution_count": 20,
   "metadata": {},
   "outputs": [],
   "source": [
    "model.save('dr_unsolved_data.h5')"
   ]
  },
  {
   "cell_type": "markdown",
   "metadata": {},
   "source": [
    "---"
   ]
  },
  {
   "cell_type": "markdown",
   "metadata": {},
   "source": [
    "# Extended data set\n",
    "\n",
    "Using artificially solved sudoku images instead of unsolved images to get more variations of digits.\n",
    "\n",
    "For example: \n",
    "\n",
    "![](data/train_solved/image202.jpg)"
   ]
  },
  {
   "cell_type": "code",
   "execution_count": 21,
   "metadata": {},
   "outputs": [],
   "source": [
    "train_solved_paths = []\n",
    "test_solved_paths = []\n",
    "\n",
    "with open('data/train_solved.desc') as f:\n",
    "    for img in f.readlines():\n",
    "        train_solved_paths.append('data/train_solved/' + img.strip()[6:-4])\n",
    "        \n",
    "with open('data/test_solved.desc') as f:\n",
    "    for img in f.readlines():\n",
    "        test_solved_paths.append('data/test_solved/' + img.strip()[6:-4])"
   ]
  },
  {
   "cell_type": "code",
   "execution_count": 23,
   "metadata": {},
   "outputs": [
    {
     "name": "stderr",
     "output_type": "stream",
     "text": [
      "100%|████████████████████████████████████████████████████████████████████████████████| 160/160 [00:28<00:00,  9.78it/s]\n"
     ]
    },
    {
     "name": "stdout",
     "output_type": "stream",
     "text": [
      "(12960, 785)\n",
      "   0    1    2    3    4    5    6    7    8    9   ...   775  776  777  778  \\\n",
      "0    2    0    0    0    0    0    0    0    0    0 ...     0    0    0    0   \n",
      "1    5    0    0    0    0    0    0    0    0    0 ...     0    0    0    0   \n",
      "2    3    0    0    0    0    0    0    0    0    0 ...     0    0    0    0   \n",
      "3    7    0    0    0    0    0    0    0    0    0 ...     0    0    0    0   \n",
      "4    1    0    0    0    0    0    0    0    0    0 ...     0    0    0    0   \n",
      "\n",
      "   779  780  781  782  783  784  \n",
      "0    0    0    0    0    0    0  \n",
      "1    0    0    0    0    0    0  \n",
      "2    0    0    0    0    0    0  \n",
      "3    0    0    0    0    0    0  \n",
      "4    0    0    0    0    0    0  \n",
      "\n",
      "[5 rows x 785 columns]\n"
     ]
    }
   ],
   "source": [
    "train_solved_data = []\n",
    "for path in tqdm(train_solved_paths):\n",
    "    img = cv2.imread(path + '.jpg', cv2.IMREAD_GRAYSCALE)\n",
    "    digits = ip_utils.convert(img)\n",
    "    target = []\n",
    "    with open(path + '.dat') as f:\n",
    "        for line in f.readlines()[2:]:\n",
    "            target.extend(map(int, line.strip().split()))\n",
    "    for digit, t in zip(digits, target):\n",
    "        if t != 0:\n",
    "            train_solved_data.append(np.concatenate(([t], np.array(digit).flatten())))\n",
    "            \n",
    "train_solved_df = pd.DataFrame(train_solved_data)\n",
    "print(train_solved_df.shape)\n",
    "print(train_solved_df.head())\n",
    "train_solved_df.to_csv('data/train_solved.csv', index=False, header=False)"
   ]
  },
  {
   "cell_type": "code",
   "execution_count": 25,
   "metadata": {},
   "outputs": [
    {
     "name": "stderr",
     "output_type": "stream",
     "text": [
      "100%|██████████████████████████████████████████████████████████████████████████████████| 40/40 [00:07<00:00,  6.49it/s]\n"
     ]
    },
    {
     "name": "stdout",
     "output_type": "stream",
     "text": [
      "(3240, 785)\n",
      "   0    1    2    3    4    5    6    7    8    9   ...   775  776  777  778  \\\n",
      "0    4    0    0    0    0    0    0    0    0    0 ...     0    0    0    0   \n",
      "1    8    0    0    0    0    0    0    0    0    0 ...     0    0    0    0   \n",
      "2    5    0    0    0    0    0    0    0    0    0 ...     0    0    0    0   \n",
      "3    6    0    0    0    0    0    0    0    0    0 ...     0    0    0    0   \n",
      "4    2    0    0    0    0    0    0    0    0    0 ...     0    0    0    0   \n",
      "\n",
      "   779  780  781  782  783  784  \n",
      "0    0    0    0    0    0    0  \n",
      "1    0    0    0    0    0    0  \n",
      "2    0    0    0    0    0    0  \n",
      "3    0    0    0    0    0    0  \n",
      "4    0    0    0    0    0    0  \n",
      "\n",
      "[5 rows x 785 columns]\n"
     ]
    }
   ],
   "source": [
    "test_solved_data = []\n",
    "for path in tqdm(test_solved_paths):\n",
    "    img = cv2.imread(path + '.jpg', cv2.IMREAD_GRAYSCALE)\n",
    "    digits = ip_utils.convert(img)\n",
    "    target = []\n",
    "    with open(path + '.dat') as f:\n",
    "        for line in f.readlines()[2:]:\n",
    "            target.extend(map(int, line.strip().split()))\n",
    "    for digit, t in zip(digits, target):\n",
    "        if t != 0:\n",
    "            test_solved_data.append(np.concatenate(([t], np.array(digit).flatten())))\n",
    "\n",
    "test_solved_df = pd.DataFrame(test_solved_data)\n",
    "print(test_solved_df.shape)\n",
    "print(test_solved_df.head())\n",
    "test_solved_df.to_csv('data/test_solved.csv', index=False, header=False)"
   ]
  },
  {
   "cell_type": "code",
   "execution_count": 26,
   "metadata": {},
   "outputs": [],
   "source": [
    "x_train, y_train = train_solved_df.iloc[:, 1:], train_solved_df.iloc[:, 0]\n",
    "x_test, y_test = test_solved_df.iloc[:, 1:], test_solved_df.iloc[:, 0]\n",
    "x_train = x_train / 255.\n",
    "x_test = x_test / 255.\n",
    "x_train = x_train.values.reshape(-1, 28, 28, 1)\n",
    "x_test = x_test.values.reshape(-1, 28, 28, 1)\n",
    "y_train = to_categorical(y_train)\n",
    "y_test = to_categorical(y_test)"
   ]
  },
  {
   "cell_type": "code",
   "execution_count": 27,
   "metadata": {},
   "outputs": [
    {
     "name": "stdout",
     "output_type": "stream",
     "text": [
      "_________________________________________________________________\n",
      "Layer (type)                 Output Shape              Param #   \n",
      "=================================================================\n",
      "conv2d_5 (Conv2D)            (None, 28, 28, 32)        832       \n",
      "_________________________________________________________________\n",
      "conv2d_6 (Conv2D)            (None, 28, 28, 32)        25632     \n",
      "_________________________________________________________________\n",
      "max_pooling2d_3 (MaxPooling2 (None, 14, 14, 32)        0         \n",
      "_________________________________________________________________\n",
      "dropout_4 (Dropout)          (None, 14, 14, 32)        0         \n",
      "_________________________________________________________________\n",
      "conv2d_7 (Conv2D)            (None, 14, 14, 64)        18496     \n",
      "_________________________________________________________________\n",
      "conv2d_8 (Conv2D)            (None, 14, 14, 64)        36928     \n",
      "_________________________________________________________________\n",
      "max_pooling2d_4 (MaxPooling2 (None, 7, 7, 64)          0         \n",
      "_________________________________________________________________\n",
      "dropout_5 (Dropout)          (None, 7, 7, 64)          0         \n",
      "_________________________________________________________________\n",
      "flatten_2 (Flatten)          (None, 3136)              0         \n",
      "_________________________________________________________________\n",
      "dense_3 (Dense)              (None, 256)               803072    \n",
      "_________________________________________________________________\n",
      "dropout_6 (Dropout)          (None, 256)               0         \n",
      "_________________________________________________________________\n",
      "dense_4 (Dense)              (None, 10)                2570      \n",
      "=================================================================\n",
      "Total params: 887,530\n",
      "Trainable params: 887,530\n",
      "Non-trainable params: 0\n",
      "_________________________________________________________________\n"
     ]
    }
   ],
   "source": [
    "model2 = Sequential()\n",
    "\n",
    "model2.add(Conv2D(filters=32, kernel_size=(5, 5), padding='same', activation='relu', input_shape=(28, 28, 1)))\n",
    "model2.add(Conv2D(filters=32, kernel_size=(5, 5), padding='same', activation='relu'))\n",
    "model2.add(MaxPool2D(pool_size=(2, 2)))\n",
    "model2.add(Dropout(0.25))\n",
    "\n",
    "model2.add(Conv2D(filters=64, kernel_size=(3, 3), padding='same', activation='relu'))\n",
    "model2.add(Conv2D(filters=64, kernel_size=(3, 3), padding='same', activation='relu'))\n",
    "model2.add(MaxPool2D(pool_size=(2, 2), strides=(2, 2)))\n",
    "model2.add(Dropout(0.25))\n",
    "\n",
    "model2.add(Flatten())\n",
    "model2.add(Dense(256, activation='relu'))\n",
    "model2.add(Dropout(0.5))\n",
    "model2.add(Dense(10, activation='softmax'))\n",
    "\n",
    "optimizer = Adam(lr=0.001)\n",
    "model2.compile(optimizer=optimizer, loss='categorical_crossentropy', metrics=['accuracy'])\n",
    "\n",
    "model2.summary()"
   ]
  },
  {
   "cell_type": "code",
   "execution_count": 28,
   "metadata": {},
   "outputs": [],
   "source": [
    "datagen = ImageDataGenerator(\n",
    "    rotation_range=10,\n",
    "    zoom_range=0.2,\n",
    "    shear_range=0.2,\n",
    "    width_shift_range=0.2,\n",
    "    height_shift_range=0.2\n",
    ")\n",
    "datagen.fit(x_train)"
   ]
  },
  {
   "cell_type": "code",
   "execution_count": 29,
   "metadata": {},
   "outputs": [
    {
     "name": "stdout",
     "output_type": "stream",
     "text": [
      "Epoch 1/50\n",
      " - 85s - loss: 1.2463 - acc: 0.5738 - val_loss: 0.3999 - val_acc: 0.8867\n",
      "Epoch 2/50\n",
      " - 84s - loss: 0.5547 - acc: 0.8346 - val_loss: 0.2776 - val_acc: 0.9238\n",
      "Epoch 3/50\n",
      " - 84s - loss: 0.4338 - acc: 0.8718 - val_loss: 0.2711 - val_acc: 0.9352\n",
      "Epoch 4/50\n",
      " - 84s - loss: 0.3710 - acc: 0.8922 - val_loss: 0.2389 - val_acc: 0.9404\n",
      "Epoch 5/50\n",
      " - 84s - loss: 0.3302 - acc: 0.9038 - val_loss: 0.2496 - val_acc: 0.9377\n",
      "Epoch 6/50\n",
      " - 84s - loss: 0.3151 - acc: 0.9106 - val_loss: 0.2290 - val_acc: 0.9410\n",
      "Epoch 7/50\n",
      " - 85s - loss: 0.2975 - acc: 0.9170 - val_loss: 0.2284 - val_acc: 0.9426\n",
      "Epoch 8/50\n",
      " - 84s - loss: 0.2851 - acc: 0.9174 - val_loss: 0.2168 - val_acc: 0.9466\n",
      "Epoch 9/50\n",
      " - 84s - loss: 0.2778 - acc: 0.9183 - val_loss: 0.2254 - val_acc: 0.9454\n",
      "Epoch 10/50\n",
      " - 84s - loss: 0.2666 - acc: 0.9214 - val_loss: 0.2205 - val_acc: 0.9460\n",
      "Epoch 11/50\n",
      " - 86s - loss: 0.2617 - acc: 0.9254 - val_loss: 0.2177 - val_acc: 0.9460\n",
      "\n",
      "Epoch 00011: ReduceLROnPlateau reducing learning rate to 0.0005000000237487257.\n",
      "Epoch 12/50\n",
      " - 85s - loss: 0.2368 - acc: 0.9346 - val_loss: 0.2123 - val_acc: 0.9488\n",
      "Epoch 13/50\n",
      " - 85s - loss: 0.2234 - acc: 0.9373 - val_loss: 0.2142 - val_acc: 0.9475\n",
      "Epoch 14/50\n",
      " - 84s - loss: 0.2149 - acc: 0.9397 - val_loss: 0.2029 - val_acc: 0.9515\n",
      "Epoch 15/50\n",
      " - 84s - loss: 0.2072 - acc: 0.9401 - val_loss: 0.2076 - val_acc: 0.9515\n",
      "Epoch 16/50\n",
      " - 84s - loss: 0.2262 - acc: 0.9359 - val_loss: 0.2086 - val_acc: 0.9519\n",
      "Epoch 17/50\n",
      " - 84s - loss: 0.2090 - acc: 0.9414 - val_loss: 0.2028 - val_acc: 0.9534\n",
      "Epoch 18/50\n",
      " - 84s - loss: 0.2088 - acc: 0.9396 - val_loss: 0.1949 - val_acc: 0.9549\n",
      "Epoch 19/50\n",
      " - 84s - loss: 0.1933 - acc: 0.9433 - val_loss: 0.2050 - val_acc: 0.9528\n",
      "Epoch 20/50\n",
      " - 84s - loss: 0.2028 - acc: 0.9417 - val_loss: 0.2016 - val_acc: 0.9509\n",
      "Epoch 21/50\n",
      " - 84s - loss: 0.2012 - acc: 0.9431 - val_loss: 0.1904 - val_acc: 0.9546\n",
      "\n",
      "Epoch 00021: ReduceLROnPlateau reducing learning rate to 0.0002500000118743628.\n",
      "Epoch 22/50\n",
      " - 84s - loss: 0.1903 - acc: 0.9464 - val_loss: 0.1901 - val_acc: 0.9546\n",
      "Epoch 23/50\n",
      " - 85s - loss: 0.1854 - acc: 0.9489 - val_loss: 0.1958 - val_acc: 0.9531\n",
      "Epoch 24/50\n",
      " - 87s - loss: 0.1836 - acc: 0.9481 - val_loss: 0.1908 - val_acc: 0.9549\n",
      "\n",
      "Epoch 00024: ReduceLROnPlateau reducing learning rate to 0.0001250000059371814.\n",
      "Epoch 25/50\n",
      " - 92s - loss: 0.1766 - acc: 0.9488 - val_loss: 0.1911 - val_acc: 0.9546\n",
      "Epoch 26/50\n",
      " - 91s - loss: 0.1723 - acc: 0.9518 - val_loss: 0.1908 - val_acc: 0.9546\n",
      "Epoch 27/50\n",
      " - 96s - loss: 0.1758 - acc: 0.9497 - val_loss: 0.1878 - val_acc: 0.9549\n",
      "\n",
      "Epoch 00027: ReduceLROnPlateau reducing learning rate to 6.25000029685907e-05.\n",
      "Epoch 28/50\n",
      " - 94s - loss: 0.1694 - acc: 0.9509 - val_loss: 0.1911 - val_acc: 0.9546\n",
      "Epoch 29/50\n",
      " - 94s - loss: 0.1697 - acc: 0.9526 - val_loss: 0.1904 - val_acc: 0.9559\n",
      "Epoch 30/50\n",
      " - 95s - loss: 0.1651 - acc: 0.9524 - val_loss: 0.1912 - val_acc: 0.9552\n",
      "Epoch 31/50\n",
      " - 97s - loss: 0.1613 - acc: 0.9541 - val_loss: 0.1903 - val_acc: 0.9552\n",
      "Epoch 32/50\n",
      " - 93s - loss: 0.1700 - acc: 0.9519 - val_loss: 0.1903 - val_acc: 0.9546\n",
      "\n",
      "Epoch 00032: ReduceLROnPlateau reducing learning rate to 3.125000148429535e-05.\n",
      "Epoch 33/50\n",
      " - 95s - loss: 0.1647 - acc: 0.9500 - val_loss: 0.1897 - val_acc: 0.9540\n",
      "Epoch 34/50\n",
      " - 95s - loss: 0.1626 - acc: 0.9537 - val_loss: 0.1884 - val_acc: 0.9552\n",
      "Epoch 35/50\n",
      " - 96s - loss: 0.1667 - acc: 0.9527 - val_loss: 0.1874 - val_acc: 0.9537\n",
      "\n",
      "Epoch 00035: ReduceLROnPlateau reducing learning rate to 1.5625000742147677e-05.\n",
      "Epoch 36/50\n",
      " - 95s - loss: 0.1651 - acc: 0.9533 - val_loss: 0.1874 - val_acc: 0.9540\n",
      "Epoch 37/50\n",
      " - 93s - loss: 0.1652 - acc: 0.9524 - val_loss: 0.1889 - val_acc: 0.9549\n",
      "Epoch 38/50\n",
      " - 94s - loss: 0.1597 - acc: 0.9541 - val_loss: 0.1882 - val_acc: 0.9549\n",
      "\n",
      "Epoch 00038: ReduceLROnPlateau reducing learning rate to 1e-05.\n",
      "Epoch 39/50\n",
      " - 85s - loss: 0.1644 - acc: 0.9539 - val_loss: 0.1883 - val_acc: 0.9546\n",
      "Epoch 40/50\n",
      " - 85s - loss: 0.1560 - acc: 0.9548 - val_loss: 0.1886 - val_acc: 0.9552\n",
      "Epoch 41/50\n",
      " - 85s - loss: 0.1610 - acc: 0.9533 - val_loss: 0.1894 - val_acc: 0.9556\n",
      "Epoch 42/50\n",
      " - 86s - loss: 0.1671 - acc: 0.9513 - val_loss: 0.1882 - val_acc: 0.9552\n",
      "Epoch 43/50\n",
      " - 84s - loss: 0.1596 - acc: 0.9544 - val_loss: 0.1888 - val_acc: 0.9556\n",
      "Epoch 44/50\n",
      " - 118s - loss: 0.1584 - acc: 0.9541 - val_loss: 0.1890 - val_acc: 0.9552\n",
      "Epoch 45/50\n",
      " - 118s - loss: 0.1702 - acc: 0.9529 - val_loss: 0.1882 - val_acc: 0.9546\n",
      "Epoch 46/50\n",
      " - 88s - loss: 0.1608 - acc: 0.9522 - val_loss: 0.1888 - val_acc: 0.9543\n",
      "Epoch 47/50\n",
      " - 85s - loss: 0.1547 - acc: 0.9565 - val_loss: 0.1890 - val_acc: 0.9546\n",
      "Epoch 48/50\n",
      " - 87s - loss: 0.1638 - acc: 0.9531 - val_loss: 0.1882 - val_acc: 0.9543\n",
      "Epoch 49/50\n",
      " - 87s - loss: 0.1673 - acc: 0.9506 - val_loss: 0.1875 - val_acc: 0.9546\n",
      "Epoch 50/50\n",
      " - 84s - loss: 0.1603 - acc: 0.9547 - val_loss: 0.1875 - val_acc: 0.9546\n"
     ]
    }
   ],
   "source": [
    "epochs = 50\n",
    "batch_size = 64\n",
    "steps_per_epoch = x_train.shape[0] // batch_size\n",
    "lr_reduction = ReduceLROnPlateau(monitor='val_acc', \n",
    "                                 patience=3, \n",
    "                                 verbose=1, \n",
    "                                 factor=0.5, \n",
    "                                 min_lr=0.00001)\n",
    "\n",
    "history = model2.fit_generator(datagen.flow(x_train, y_train, batch_size=batch_size), epochs=epochs, verbose=2,\n",
    "                              validation_data=(x_test, y_test), steps_per_epoch=steps_per_epoch, callbacks=[lr_reduction])"
   ]
  },
  {
   "cell_type": "code",
   "execution_count": 34,
   "metadata": {},
   "outputs": [
    {
     "data": {
      "text/plain": [
       "<matplotlib.legend.Legend at 0x1383b9207b8>"
      ]
     },
     "execution_count": 34,
     "metadata": {},
     "output_type": "execute_result"
    },
    {
     "data": {
      "image/png": "[encoded data removed]",
      "text/plain": [
       "<Figure size 432x288 with 1 Axes>"
      ]
     },
     "metadata": {
      "needs_background": "light"
     },
     "output_type": "display_data"
    }
   ],
   "source": [
    "plt.plot(history.history['acc'])\n",
    "plt.plot(history.history['val_acc'])\n",
    "plt.title('Accuracy')\n",
    "plt.xlabel('Epochs')\n",
    "plt.ylabel('Accuracy')\n",
    "plt.legend(['train', 'test'])"
   ]
  },
  {
   "cell_type": "code",
   "execution_count": 31,
   "metadata": {},
   "outputs": [
    {
     "data": {
      "text/plain": [
       "<matplotlib.legend.Legend at 0x1383b84a2b0>"
      ]
     },
     "execution_count": 31,
     "metadata": {},
     "output_type": "execute_result"
    },
    {
     "data": {
      "image/png": "[encoded data removed]",
      "text/plain": [
       "<Figure size 432x288 with 1 Axes>"
      ]
     },
     "metadata": {
      "needs_background": "light"
     },
     "output_type": "display_data"
    }
   ],
   "source": [
    "plt.plot(history.history['loss'])\n",
    "plt.plot(history.history['val_loss'])\n",
    "plt.title('Loss')\n",
    "plt.xlabel('Epochs')\n",
    "plt.ylabel('Loss')\n",
    "plt.legend(['train', 'test'])"
   ]
  },
  {
   "cell_type": "code",
   "execution_count": 32,
   "metadata": {},
   "outputs": [],
   "source": [
    "model2.save('dr_solved2.h5')"
   ]
  },
  {
   "cell_type": "markdown",
   "metadata": {},
   "source": [
    "---"
   ]
  },
  {
   "cell_type": "markdown",
   "metadata": {},
   "source": [
    "## Analysing misclassified images"
   ]
  },
  {
   "cell_type": "code",
   "execution_count": 35,
   "metadata": {},
   "outputs": [],
   "source": [
    "df = pd.read_csv('data/test.csv', header=None, index_col=None)"
   ]
  },
  {
   "cell_type": "code",
   "execution_count": 37,
   "metadata": {},
   "outputs": [
    {
     "data": {
      "text/plain": [
       "(1156, 785)"
      ]
     },
     "execution_count": 37,
     "metadata": {},
     "output_type": "execute_result"
    }
   ],
   "source": [
    "df.shape"
   ]
  },
  {
   "cell_type": "code",
   "execution_count": 131,
   "metadata": {},
   "outputs": [],
   "source": [
    "x, y = df.iloc[:, 1:], df.iloc[:, 0]\n",
    "x = x / 255."
   ]
  },
  {
   "cell_type": "code",
   "execution_count": 132,
   "metadata": {},
   "outputs": [],
   "source": [
    "x = x.values.reshape(-1, 28, 28, 1)"
   ]
  },
  {
   "cell_type": "code",
   "execution_count": 133,
   "metadata": {},
   "outputs": [],
   "source": [
    "pred, pred_class = model2.predict(x), model2.predict_classes(x)"
   ]
  },
  {
   "cell_type": "code",
   "execution_count": 134,
   "metadata": {},
   "outputs": [
    {
     "name": "stdout",
     "output_type": "stream",
     "text": [
      "              precision    recall  f1-score   support\n",
      "\n",
      "           1       0.74      0.98      0.84       129\n",
      "           2       0.99      0.95      0.97       139\n",
      "           3       0.99      0.96      0.98       123\n",
      "           4       0.98      0.94      0.96       124\n",
      "           5       0.96      0.95      0.96       127\n",
      "           6       0.99      0.93      0.96       117\n",
      "           7       0.99      0.94      0.97       125\n",
      "           8       0.98      0.94      0.96       147\n",
      "           9       0.98      0.93      0.95       125\n",
      "\n",
      "   micro avg       0.95      0.95      0.95      1156\n",
      "   macro avg       0.96      0.95      0.95      1156\n",
      "weighted avg       0.96      0.95      0.95      1156\n",
      "\n"
     ]
    }
   ],
   "source": [
    "print(classification_report(y, pred_class))"
   ]
  },
  {
   "cell_type": "code",
   "execution_count": 135,
   "metadata": {},
   "outputs": [
    {
     "name": "stdout",
     "output_type": "stream",
     "text": [
      "[[127   1   1   0   0   0   0   0   0]\n",
      " [  7 132   0   0   0   0   0   0   0]\n",
      " [  4   0 118   0   1   0   0   0   0]\n",
      " [  5   0   0 116   1   1   0   0   1]\n",
      " [  5   0   0   0 121   0   0   1   0]\n",
      " [  4   0   0   0   1 109   1   1   1]\n",
      " [  7   0   0   0   0   0 118   0   0]\n",
      " [  8   0   0   1   0   0   0 138   0]\n",
      " [  5   0   0   1   2   0   0   1 116]]\n"
     ]
    }
   ],
   "source": [
    "print(confusion_matrix(y, pred_class))"
   ]
  },
  {
   "cell_type": "code",
   "execution_count": 136,
   "metadata": {},
   "outputs": [],
   "source": [
    "pred = np.max(pred, axis=1)"
   ]
  },
  {
   "cell_type": "code",
   "execution_count": 137,
   "metadata": {},
   "outputs": [],
   "source": [
    "errors = y != pred_class"
   ]
  },
  {
   "cell_type": "code",
   "execution_count": 141,
   "metadata": {},
   "outputs": [
    {
     "data": {
      "text/plain": [
       "(array([33.,  4.,  3.,  1.,  1.,  1.,  1.,  2.,  4., 11.]),\n",
       " array([0.27648187, 0.3488185 , 0.42115515, 0.49349177, 0.56582844,\n",
       "        0.63816506, 0.7105017 , 0.78283834, 0.85517496, 0.92751163,\n",
       "        0.99984825], dtype=float32),\n",
       " <a list of 10 Patch objects>)"
      ]
     },
     "execution_count": 141,
     "metadata": {},
     "output_type": "execute_result"
    },
    {
     "data": {
      "image/png": "[encoded data removed]",
      "text/plain": [
       "<Figure size 432x288 with 1 Axes>"
      ]
     },
     "metadata": {
      "needs_background": "light"
     },
     "output_type": "display_data"
    }
   ],
   "source": [
    "plt.hist(pred[errors])"
   ]
  },
  {
   "cell_type": "code",
   "execution_count": 144,
   "metadata": {
    "scrolled": true
   },
   "outputs": [
    {
     "data": {
      "text/plain": [
       "(61, 21)"
      ]
     },
     "execution_count": 144,
     "metadata": {},
     "output_type": "execute_result"
    }
   ],
   "source": [
    "len(pred[errors]), sum(pred[errors] > 0.5)"
   ]
  },
  {
   "cell_type": "markdown",
   "metadata": {},
   "source": [
    "## Checking performance on noisy image"
   ]
  },
  {
   "cell_type": "code",
   "execution_count": 145,
   "metadata": {},
   "outputs": [
    {
     "data": {
      "text/plain": [
       "<matplotlib.image.AxesImage at 0x13840a09a58>"
      ]
     },
     "execution_count": 145,
     "metadata": {},
     "output_type": "execute_result"
    },
    {
     "data": {
      "image/png": "[encoded data removed]",
      "text/plain": [
       "<Figure size 432x288 with 1 Axes>"
      ]
     },
     "metadata": {
      "needs_background": "light"
     },
     "output_type": "display_data"
    }
   ],
   "source": [
    "img = cv2.imread('data/train/image1049.jpg', cv2.IMREAD_GRAYSCALE)\n",
    "plt.imshow(img, cmap='gray')"
   ]
  },
  {
   "cell_type": "code",
   "execution_count": 146,
   "metadata": {},
   "outputs": [
    {
     "data": {
      "text/plain": [
       "<matplotlib.image.AxesImage at 0x13845d9c080>"
      ]
     },
     "execution_count": 146,
     "metadata": {},
     "output_type": "execute_result"
    },
    {
     "data": {
      "image/png": "[encoded data removed]",
      "text/plain": [
       "<Figure size 432x288 with 1 Axes>"
      ]
     },
     "metadata": {
      "needs_background": "light"
     },
     "output_type": "display_data"
    }
   ],
   "source": [
    "digits = ip_utils.convert(img)\n",
    "plt.imshow(ip_utils.display_digits(digits), cmap='gray')"
   ]
  },
  {
   "cell_type": "code",
   "execution_count": 152,
   "metadata": {},
   "outputs": [],
   "source": [
    "bot_row = np.array(digits[-9:]) / 255."
   ]
  },
  {
   "cell_type": "code",
   "execution_count": 153,
   "metadata": {},
   "outputs": [],
   "source": [
    "bot_row = bot_row.reshape(-1, 28, 28, 1)"
   ]
  },
  {
   "cell_type": "code",
   "execution_count": 154,
   "metadata": {},
   "outputs": [
    {
     "data": {
      "text/plain": [
       "(9, 28, 28, 1)"
      ]
     },
     "execution_count": 154,
     "metadata": {},
     "output_type": "execute_result"
    }
   ],
   "source": [
    "bot_row.shape"
   ]
  },
  {
   "cell_type": "code",
   "execution_count": 155,
   "metadata": {},
   "outputs": [],
   "source": [
    "pred = model2.predict(bot_row)"
   ]
  },
  {
   "cell_type": "code",
   "execution_count": 162,
   "metadata": {},
   "outputs": [
    {
     "data": {
      "text/plain": [
       "array([6, 1, 5, 5, 2, 5, 1, 2, 7], dtype=int64)"
      ]
     },
     "execution_count": 162,
     "metadata": {},
     "output_type": "execute_result"
    }
   ],
   "source": [
    "np.argmax(pred, axis=1)"
   ]
  },
  {
   "cell_type": "code",
   "execution_count": 163,
   "metadata": {},
   "outputs": [
    {
     "data": {
      "text/plain": [
       "array([0.9999597 , 0.33316475, 0.6785244 , 0.20950122, 0.17176643,\n",
       "       0.1854076 , 0.96871537, 0.14751741, 0.99996006], dtype=float32)"
      ]
     },
     "execution_count": 163,
     "metadata": {},
     "output_type": "execute_result"
    }
   ],
   "source": [
    "np.max(pred, axis=1)"
   ]
  },
  {
   "cell_type": "code",
   "execution_count": 164,
   "metadata": {},
   "outputs": [
    {
     "data": {
      "text/plain": [
       "<matplotlib.image.AxesImage at 0x13847f03358>"
      ]
     },
     "execution_count": 164,
     "metadata": {},
     "output_type": "execute_result"
    },
    {
     "data": {
      "image/png": "[encoded data removed]",
      "text/plain": [
       "<Figure size 432x288 with 1 Axes>"
      ]
     },
     "metadata": {
      "needs_background": "light"
     },
     "output_type": "display_data"
    }
   ],
   "source": [
    "plt.imshow(digits[45], cmap='gray')"
   ]
  },
  {
   "cell_type": "code",
   "execution_count": 184,
   "metadata": {},
   "outputs": [
    {
     "data": {
      "text/plain": [
       "1.0"
      ]
     },
     "execution_count": 184,
     "metadata": {},
     "output_type": "execute_result"
    }
   ],
   "source": [
    "max(model2.predict(digits[45].reshape(1, 28, 28, 1))[0])"
   ]
  },
  {
   "cell_type": "code",
   "execution_count": null,
   "metadata": {},
   "outputs": [],
   "source": []
  }
 ],
 "metadata": {
  "kernelspec": {
   "display_name": "Python 3",
   "language": "python",
   "name": "python3"
  },
  "language_info": {
   "codemirror_mode": {
    "name": "ipython",
    "version": 3
   },
   "file_extension": ".py",
   "mimetype": "text/x-python",
   "name": "python",
   "nbconvert_exporter": "python",
   "pygments_lexer": "ipython3",
   "version": "3.6.7"
  }
 },
 "nbformat": 4,
 "nbformat_minor": 2
}
